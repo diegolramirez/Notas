{
 "cells": [
  {
   "cell_type": "code",
   "execution_count": 1,
   "metadata": {
    "collapsed": true
   },
   "outputs": [],
   "source": [
    "import numpy as np\n",
    "import matplotlib.pyplot as plt\n",
    "from datetime import datetime\n",
    "import random"
   ]
  },
  {
   "cell_type": "markdown",
   "metadata": {},
   "source": [
    "## Punto 1"
   ]
  },
  {
   "cell_type": "code",
   "execution_count": 2,
   "metadata": {
    "collapsed": true
   },
   "outputs": [],
   "source": [
    "def ruleta_numero(apuesta):\n",
    "    aleatorio = random.randrange(37)\n",
    "    if (aleatorio == 0):\n",
    "        return(apuesta*35)\n",
    "    else:\n",
    "        return(-apuesta)"
   ]
  },
  {
   "cell_type": "code",
   "execution_count": 3,
   "metadata": {
    "collapsed": true
   },
   "outputs": [],
   "source": [
    "def ruleta_color(apuesta):\n",
    "    aleatorio = random.randrange(37)\n",
    "    if (aleatorio > 18):\n",
    "        return(apuesta)\n",
    "    else:\n",
    "        return(-apuesta)"
   ]
  },
  {
   "cell_type": "code",
   "execution_count": 4,
   "metadata": {
    "collapsed": true
   },
   "outputs": [],
   "source": [
    "def experimento(fondosIniciales,apuesta,iteraciones,juegos,ruleta):\n",
    "    distribucion = np.zeros(juegos+1)\n",
    "    for __ in range(iteraciones):\n",
    "        fondos = fondosIniciales\n",
    "        distribucion[0] += fondos\n",
    "        for i in range(juegos):\n",
    "            #random.seed(datetime.now().microsecond)\n",
    "            fondos += ruleta(apuesta)\n",
    "            distribucion[i+1] += fondos\n",
    "    return(distribucion/iteraciones)"
   ]
  },
  {
   "cell_type": "code",
   "execution_count": 5,
   "metadata": {
    "collapsed": true
   },
   "outputs": [],
   "source": [
    "def experimento2(fondosIniciales,apuesta,iteraciones,juegos,ruleta):\n",
    "    quebrados = 0\n",
    "    tiempo = []\n",
    "    for __ in range(iteraciones):\n",
    "        fondos = fondosIniciales\n",
    "        for i in range(juegos):\n",
    "            #random.seed(datetime.now().microsecond)\n",
    "            fondos += ruleta(apuesta)\n",
    "            if (fondos == 0):\n",
    "                quebrados += 1\n",
    "                tiempo.append(i)\n",
    "                break\n",
    "    return([quebrados,np.mean(tiempo)+1])"
   ]
  },
  {
   "cell_type": "code",
   "execution_count": 6,
   "metadata": {
    "collapsed": true
   },
   "outputs": [],
   "source": [
    "def experimento3(fondosIniciales,apuestaInicial,iteraciones,juegos,ruleta):\n",
    "    no_quebrados = []\n",
    "    for __ in range(iteraciones):\n",
    "        fondos = fondosIniciales\n",
    "        apuesta = apuestaInicial\n",
    "        for i in range(juegos):\n",
    "            #random.seed(datetime.now().microsecond)\n",
    "            ganacia = ruleta(apuesta)\n",
    "            fondos += ganacia\n",
    "            if (fondos <= 0):\n",
    "                break\n",
    "            if(ganacia < 0):\n",
    "                apuesta = np.amin([apuesta*2,fondos])\n",
    "            else:\n",
    "                apuesta = apuestaInicial\n",
    "            if (i == (juegos - 1)):\n",
    "                no_quebrados.append(fondos)\n",
    "    return(no_quebrados)"
   ]
  },
  {
   "cell_type": "markdown",
   "metadata": {},
   "source": [
    "## Parte A"
   ]
  },
  {
   "cell_type": "markdown",
   "metadata": {},
   "source": [
    "### A1"
   ]
  },
  {
   "cell_type": "code",
   "execution_count": 7,
   "metadata": {},
   "outputs": [
    {
     "data": {
      "image/png": "[encoded data removed]",
      "text/plain": [
       "<matplotlib.figure.Figure at 0x7f90c0fb43c8>"
      ]
     },
     "metadata": {},
     "output_type": "display_data"
    }
   ],
   "source": [
    "numero_d = experimento(100,1,20000,100,ruleta_numero)\n",
    "x=np.arange(len(numero_d))\n",
    "plt.scatter(x,numero_d)\n",
    "plt.title('Distribución fondos apuesta por número')\n",
    "plt.xlabel('Juego')\n",
    "plt.ylabel('Fondos')\n",
    "plt.savefig('A1_adturo.png')\n",
    "plt.show()"
   ]
  },
  {
   "cell_type": "markdown",
   "metadata": {},
   "source": [
    "### A2"
   ]
  },
  {
   "cell_type": "code",
   "execution_count": 8,
   "metadata": {},
   "outputs": [
    {
     "data": {
      "text/plain": [
       "98.589823762376255"
      ]
     },
     "execution_count": 8,
     "metadata": {},
     "output_type": "execute_result"
    }
   ],
   "source": [
    "np.mean(numero_d)"
   ]
  },
  {
   "cell_type": "markdown",
   "metadata": {},
   "source": [
    "### A3 "
   ]
  },
  {
   "cell_type": "code",
   "execution_count": 9,
   "metadata": {},
   "outputs": [
    {
     "name": "stdout",
     "output_type": "stream",
     "text": [
      "9537\n",
      "247.650204467\n"
     ]
    }
   ],
   "source": [
    "resultados_quebrados_numero = experimento2(100,1,20000,550,ruleta_numero)\n",
    "print(resultados_quebrados_numero[0])\n",
    "print(resultados_quebrados_numero[1])"
   ]
  },
  {
   "cell_type": "markdown",
   "metadata": {},
   "source": [
    "## Parte B"
   ]
  },
  {
   "cell_type": "markdown",
   "metadata": {},
   "source": [
    "### B1"
   ]
  },
  {
   "cell_type": "code",
   "execution_count": 10,
   "metadata": {},
   "outputs": [
    {
     "data": {
      "image/png": "[encoded data removed]",
      "text/plain": [
       "<matplotlib.figure.Figure at 0x7f9099df3ef0>"
      ]
     },
     "metadata": {},
     "output_type": "display_data"
    }
   ],
   "source": [
    "color_d = experimento(100,1,10000,100,ruleta_color)\n",
    "x=np.arange(len(color_d))\n",
    "plt.scatter(x,color_d)\n",
    "plt.title('Distribución fondos apuesta por color')\n",
    "plt.xlabel('Juego')\n",
    "plt.ylabel('Fondos')\n",
    "plt.savefig('B1_adturo.png')\n",
    "plt.show()"
   ]
  },
  {
   "cell_type": "markdown",
   "metadata": {},
   "source": [
    "### B2"
   ]
  },
  {
   "cell_type": "code",
   "execution_count": 11,
   "metadata": {},
   "outputs": [
    {
     "data": {
      "text/plain": [
       "98.658358415841576"
      ]
     },
     "execution_count": 11,
     "metadata": {},
     "output_type": "execute_result"
    }
   ],
   "source": [
    "np.mean(color_d)"
   ]
  },
  {
   "cell_type": "markdown",
   "metadata": {},
   "source": [
    "### B3"
   ]
  },
  {
   "cell_type": "code",
   "execution_count": 24,
   "metadata": {},
   "outputs": [
    {
     "name": "stdout",
     "output_type": "stream",
     "text": [
      "9874\n",
      "3586.09114847\n"
     ]
    }
   ],
   "source": [
    "resultados_quebrados_color = experimento2(100,1,10000,11000,ruleta_color)\n",
    "print(resultados_quebrados_color[0])\n",
    "print(resultados_quebrados_color[1])"
   ]
  },
  {
   "cell_type": "markdown",
   "metadata": {},
   "source": [
    "## Parte C"
   ]
  },
  {
   "cell_type": "markdown",
   "metadata": {},
   "source": [
    "### C1"
   ]
  },
  {
   "cell_type": "code",
   "execution_count": null,
   "metadata": {},
   "outputs": [],
   "source": [
    "sniping_numero = experimento3(100,1,200000000,100,ruleta_numero)\n",
    "print(len(sniping_numero))\n",
    "print(np.mean(sniping_numero))"
   ]
  },
  {
   "cell_type": "markdown",
   "metadata": {},
   "source": [
    "### C2"
   ]
  },
  {
   "cell_type": "code",
   "execution_count": 30,
   "metadata": {},
   "outputs": [
    {
     "name": "stdout",
     "output_type": "stream",
     "text": [
      "67271\n",
      "136.794874463\n"
     ]
    }
   ],
   "source": [
    "sniping_color = experimento3(100,1,100000,100,ruleta_color)\n",
    "print(len(sniping_color[0]))\n",
    "print(np.mean(sniping_color[0]))"
   ]
  },
  {
   "cell_type": "code",
   "execution_count": null,
   "metadata": {
    "collapsed": true
   },
   "outputs": [],
   "source": []
  }
 ],
 "metadata": {
  "kernelspec": {
   "display_name": "Python 3",
   "language": "python",
   "name": "python3"
  },
  "language_info": {
   "codemirror_mode": {
    "name": "ipython",
    "version": 3
   },
   "file_extension": ".py",
   "mimetype": "text/x-python",
   "name": "python",
   "nbconvert_exporter": "python",
   "pygments_lexer": "ipython3",
   "version": "3.5.2"
  }
 },
 "nbformat": 4,
 "nbformat_minor": 2
}
