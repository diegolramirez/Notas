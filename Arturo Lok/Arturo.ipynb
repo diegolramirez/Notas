{
 "cells": [
  {
   "cell_type": "code",
   "execution_count": 52,
   "metadata": {
    "collapsed": false
   },
   "outputs": [],
   "source": [
    "import numpy as np\n",
    "import random\n",
    "import matplotlib.pyplot as plt\n",
    "%matplotlib inline"
   ]
  },
  {
   "cell_type": "code",
   "execution_count": 44,
   "metadata": {
    "collapsed": false
   },
   "outputs": [],
   "source": [
    "def mean_squared_error(x,y):\n",
    "    s = 0\n",
    "    for i in range(len(x)):\n",
    "        s += (x[i] - y[i])**2\n",
    "    s /= len(x)\n",
    "    return (s)"
   ]
  },
  {
   "cell_type": "markdown",
   "metadata": {},
   "source": [
    "## Punto 1"
   ]
  },
  {
   "cell_type": "code",
   "execution_count": 45,
   "metadata": {
    "collapsed": true
   },
   "outputs": [],
   "source": [
    "data = np.genfromtxt('fake_regression.txt')"
   ]
  },
  {
   "cell_type": "code",
   "execution_count": 46,
   "metadata": {
    "collapsed": false
   },
   "outputs": [],
   "source": [
    "x = data[:,0]\n",
    "y = data[:,1]"
   ]
  },
  {
   "cell_type": "code",
   "execution_count": 47,
   "metadata": {
    "collapsed": false
   },
   "outputs": [],
   "source": [
    "escogidos = random.sample(range(0,100), 70)"
   ]
  },
  {
   "cell_type": "code",
   "execution_count": 48,
   "metadata": {
    "collapsed": false
   },
   "outputs": [],
   "source": [
    "x70 = x[escogidos]\n",
    "y70 = y[escogidos]\n",
    "x30 = np.delete(x,escogidos)\n",
    "y30 = np.delete(y,escogidos)"
   ]
  },
  {
   "cell_type": "code",
   "execution_count": 49,
   "metadata": {
    "collapsed": false
   },
   "outputs": [],
   "source": [
    "cc70 = []\n",
    "cc30 = []"
   ]
  },
  {
   "cell_type": "code",
   "execution_count": 50,
   "metadata": {
    "collapsed": false
   },
   "outputs": [],
   "source": [
    "for i in range(20):\n",
    "    fit = np.polyfit(x70,y70,i)\n",
    "    regresion = np.poly1d(fit)\n",
    "    c70 = mean_squared_error(y70,regresion(x70))\n",
    "    cc70.append(c70)\n",
    "    c30 = mean_squared_error(y30,regresion(x30))\n",
    "    cc30.append(c30)"
   ]
  },
  {
   "cell_type": "code",
   "execution_count": 8,
   "metadata": {
    "collapsed": false
   },
   "outputs": [
    {
     "data": {
      "text/plain": [
       "[0.49999999999999994,\n",
       " 0.50915593831037631,\n",
       " 0.6010544047647155,\n",
       " 0.92493515609609056,\n",
       " 0.92624116878342699,\n",
       " 0.92671437132272427,\n",
       " 0.93368326618462527,\n",
       " 0.93371007710353193,\n",
       " 0.93773240043357631,\n",
       " 0.93774693955875388,\n",
       " 0.94284575024057937,\n",
       " 0.9428480833229097,\n",
       " 0.9428573521602045,\n",
       " 0.94315179640565483,\n",
       " 0.94342812555611932,\n",
       " 0.94466500914208484,\n",
       " 0.94466548055058186,\n",
       " 0.94505731347740474,\n",
       " 0.94768492612562205,\n",
       " 0.94959055873404208]"
      ]
     },
     "execution_count": 8,
     "metadata": {},
     "output_type": "execute_result"
    }
   ],
   "source": [
    "cc70"
   ]
  },
  {
   "cell_type": "code",
   "execution_count": 9,
   "metadata": {
    "collapsed": false
   },
   "outputs": [
    {
     "data": {
      "text/plain": [
       "20"
      ]
     },
     "execution_count": 9,
     "metadata": {},
     "output_type": "execute_result"
    }
   ],
   "source": [
    "len(cc70)"
   ]
  },
  {
   "cell_type": "code",
   "execution_count": 51,
   "metadata": {
    "collapsed": false
   },
   "outputs": [
    {
     "data": {
      "text/plain": [
       "<matplotlib.legend.Legend at 0x7f6949360a90>"
      ]
     },
     "execution_count": 51,
     "metadata": {},
     "output_type": "execute_result"
    },
    {
     "data": {
      "image/png": "[encoded data removed]",
      "text/plain": [
       "<matplotlib.figure.Figure at 0x7f69493f2cc0>"
      ]
     },
     "metadata": {},
     "output_type": "display_data"
    }
   ],
   "source": [
    "plt.figure(figsize=(12,8))\n",
    "plt.scatter(np.linspace(1,20,20),cc70,c='b',label='70%')\n",
    "plt.scatter(np.linspace(1,20,20),cc30,c='r',label='30%')\n",
    "plt.legend(loc=8)"
   ]
  },
  {
   "cell_type": "markdown",
   "metadata": {},
   "source": [
    "## Punto 2"
   ]
  },
  {
   "cell_type": "code",
   "execution_count": 54,
   "metadata": {
    "collapsed": true
   },
   "outputs": [],
   "source": [
    "data = np.genfromtxt('fake_classification.txt')"
   ]
  },
  {
   "cell_type": "code",
   "execution_count": 58,
   "metadata": {
    "collapsed": true
   },
   "outputs": [],
   "source": [
    "x = data[:,0]\n",
    "y = data[:,1]\n",
    "ones = data[:,2]"
   ]
  },
  {
   "cell_type": "code",
   "execution_count": 59,
   "metadata": {
    "collapsed": false
   },
   "outputs": [
    {
     "data": {
      "text/plain": [
       "<matplotlib.collections.PathCollection at 0x7f69491c4278>"
      ]
     },
     "execution_count": 59,
     "metadata": {},
     "output_type": "execute_result"
    },
    {
     "data": {
      "image/png": "[encoded data removed]",
      "text/plain": [
       "<matplotlib.figure.Figure at 0x7f6949268400>"
      ]
     },
     "metadata": {},
     "output_type": "display_data"
    }
   ],
   "source": [
    "plt.scatter(x,y)"
   ]
  },
  {
   "cell_type": "code",
   "execution_count": 61,
   "metadata": {
    "collapsed": false
   },
   "outputs": [],
   "source": [
    "z = x+y"
   ]
  },
  {
   "cell_type": "code",
   "execution_count": 62,
   "metadata": {
    "collapsed": false,
    "scrolled": false
   },
   "outputs": [
    {
     "data": {
      "text/plain": [
       "array([  1.20125751e+00,  -9.71809597e-01,  -8.30330910e-01,\n",
       "         8.46060693e-01,   1.72083835e+00,   4.68992696e-01,\n",
       "         5.87837195e-02,   9.63094974e-03,   6.74749857e-01,\n",
       "        -5.87124610e-01,   1.73171776e+00,   2.36410429e-01,\n",
       "        -1.03674734e+00,   1.31330636e-01,   4.40109310e-01,\n",
       "        -7.75568576e-01,   2.16160833e+00,  -3.09544035e-01,\n",
       "        -1.39454526e+00,  -1.17583988e+00,  -1.28591191e+00,\n",
       "         2.28645780e+00,   2.43887529e+00,  -2.30882634e+00,\n",
       "        -2.86077168e+00,   1.26417033e+00,  -2.80382605e+00,\n",
       "        -2.84601056e+00,  -1.59762744e+00,  -4.02288269e+00,\n",
       "        -1.35744435e+00,   4.75638079e-01,  -2.67633030e+00,\n",
       "        -2.53620700e+00,   5.55525235e-01,  -2.12500554e+00,\n",
       "        -1.02131940e+00,  -1.84204247e+00,   3.10769081e-01,\n",
       "        -1.51864661e+00,   3.30205204e-01,   1.22288033e+00,\n",
       "        -2.26444183e+00,  -3.79544311e+00,  -2.78285071e+00,\n",
       "         1.87355353e+00,   4.13450589e-01,   7.02949076e-01,\n",
       "        -9.51518340e-01,  -7.43051500e-01,  -1.47836194e+00,\n",
       "        -2.14651083e-01,   1.02373982e+00,  -1.23665193e+00,\n",
       "        -8.51872395e-01,  -5.46046839e-01,  -1.93889222e+00,\n",
       "        -1.44291337e+00,   1.63780784e+00,  -2.12177592e+00,\n",
       "         1.74547996e+00,   3.12657963e+00,   6.94144969e-02,\n",
       "        -6.40511004e-01,  -1.70904515e+00,  -9.01535660e-01,\n",
       "        -2.00225608e+00,  -1.26714837e+00,  -8.25155982e-01,\n",
       "        -5.28026961e-01,  -1.44615421e+00,   3.66622713e-01,\n",
       "        -6.23324875e-01,  -5.43973579e-01,  -3.80696514e+00,\n",
       "        -1.70794216e+00,  -1.25603126e+00,  -1.01445673e+00,\n",
       "        -5.81097501e-01,   1.68516358e-01,   3.65763515e-01,\n",
       "         7.43854196e-02,  -8.63006175e-01,   2.05193836e+00,\n",
       "         8.67629267e-01,   5.12720455e-01,   1.41748647e+00,\n",
       "        -2.01981229e+00,  -8.55965132e-01,  -4.79837604e+00,\n",
       "         2.70049608e-01,  -1.40082691e+00,  -2.76661319e+00,\n",
       "        -7.84309904e-01,  -7.15038855e-01,   6.51368630e-01,\n",
       "        -2.19823120e+00,  -2.24648726e-01,  -1.65473644e+00,\n",
       "         3.97418452e+00,   1.00763671e+00,   1.44989641e+00,\n",
       "        -1.23201903e+00,   6.07054596e-01,  -2.62497746e+00,\n",
       "        -1.02382665e+00,   2.35434102e+00,   1.19974367e+00,\n",
       "        -5.05446641e+00,   1.29458193e+00,  -1.86059546e+00,\n",
       "        -2.08112734e+00,   7.79657760e-02,  -2.55412081e-01,\n",
       "        -2.39282988e+00,   6.52532286e-01,   2.09483257e+00,\n",
       "         1.51711565e+00,   1.65521321e+00,   1.48978861e+00,\n",
       "         2.83833685e+00,  -1.26063748e+00,  -1.39164943e+00,\n",
       "        -1.10192879e+00,  -1.51272864e+00,  -8.80839082e-01,\n",
       "        -1.98625163e+00,  -8.71120103e-02,   9.09557928e-01,\n",
       "        -2.27162998e+00,   2.10482075e+00,   4.19179937e-01,\n",
       "        -1.89822663e+00,  -1.28441953e+00,  -2.70337633e-01,\n",
       "        -8.33776332e-01,   2.12410733e+00,  -3.16360121e+00,\n",
       "        -3.16587669e+00,  -1.00563135e+00,   1.92805509e+00,\n",
       "         1.64382727e+00,  -8.65813506e-01,  -6.04958271e-01,\n",
       "        -2.93630563e+00,  -2.74242930e+00,  -2.45517564e+00,\n",
       "        -1.01529583e+00,  -7.17953736e-01,  -1.20800418e+00,\n",
       "        -1.61192030e+00,  -2.76867300e+00,  -5.40165427e-01,\n",
       "        -4.15744855e-01,   1.09691922e+00,  -4.37511880e+00,\n",
       "         1.77602714e-02,  -9.64480201e-01,  -1.22685792e+00,\n",
       "         1.04989647e-01,  -4.93138431e-01,  -6.37102358e-01,\n",
       "         1.68489487e+00,  -9.10275440e-02,  -1.99899961e+00,\n",
       "         2.34765928e+00,   3.78749113e+00,  -2.68715241e+00,\n",
       "        -1.99479839e+00,   2.84355176e-01,   1.58128174e+00,\n",
       "        -1.51116329e+00,  -2.11493619e+00,  -2.15616327e+00,\n",
       "        -1.48012155e+00,  -2.19720561e+00,   2.70870075e-01,\n",
       "        -8.06221642e-01,  -9.47368242e-01,  -1.70503343e+00,\n",
       "        -2.00616467e-01,   1.08842811e+00,   8.53521070e-01,\n",
       "        -1.65529549e+00,  -1.60428763e+00,  -2.02843223e+00,\n",
       "        -3.24062061e-01,  -1.16237090e+00,   5.04244593e+00,\n",
       "        -1.93724252e+00,  -2.16608013e+00,  -1.91682286e+00,\n",
       "        -2.09354042e-01,  -1.81716305e+00,  -3.75491961e+00,\n",
       "        -7.52621252e-01,   1.75258768e+00,  -2.37352621e-01,\n",
       "         1.21643357e+00,   9.87809503e-01,  -2.35490561e+00,\n",
       "         1.25943236e+00,  -3.33112420e+00,   1.88627459e+00,\n",
       "        -2.61086127e+00,  -3.56442831e-01,  -2.41996076e+00,\n",
       "         2.11497680e+00,   1.31479315e+00,  -4.01800490e+00,\n",
       "        -1.85391303e+00,   2.48042658e+00,  -1.14179952e+00,\n",
       "        -1.68633577e+00,  -1.59297735e+00,  -1.24101456e+00,\n",
       "        -8.28614765e-01,   1.57488534e-01,   1.02153703e+00,\n",
       "         3.02561820e+00,   2.62903718e-02,   2.09214723e+00,\n",
       "         2.22389143e-01,  -1.22233558e+00,  -1.35104389e+00,\n",
       "        -1.47849492e+00,   9.65268640e-01,  -1.08887998e+00,\n",
       "        -3.71666827e+00,  -2.12826701e-01,   9.54905682e-01,\n",
       "         6.46455811e-02,  -1.29291586e+00,   1.51550938e+00,\n",
       "         2.26081399e-01,   3.62373011e+00,   5.44954408e-01,\n",
       "        -2.79903667e-01,  -8.25975402e-01,   2.03220152e+00,\n",
       "        -5.32314520e-01,  -3.93078128e-01,  -1.90908988e+00,\n",
       "         1.79350743e+00,   1.06640717e+00,   5.20630553e-01,\n",
       "         1.11574596e+00,  -4.67088838e-01,  -9.91044555e-02,\n",
       "        -1.42418969e+00,  -1.17751658e+00,  -1.34973189e+00,\n",
       "         1.16933917e+00,   4.34150792e+00,  -2.39889563e+00,\n",
       "        -5.99461286e-01,  -2.01409910e+00,   2.54261108e-01,\n",
       "        -1.53944927e-01,  -1.67290084e+00,   9.46160396e-01,\n",
       "         4.17453244e+00,  -3.09538575e+00,   1.18638859e+00,\n",
       "        -3.06699666e+00,  -2.07409505e+00,   3.44427753e+00,\n",
       "        -6.92880287e-01,  -7.37753102e-01,  -1.50250869e+00,\n",
       "         2.53498199e+00,  -6.79697479e-01,   6.93218764e-01,\n",
       "        -3.41439456e+00,   2.95601298e-01,  -3.14561881e-02,\n",
       "        -1.99976159e+00,   2.69991251e+00,  -3.28110571e-01,\n",
       "         4.41081448e+00,  -5.47314625e-01,   4.13378010e-01,\n",
       "        -6.88035118e-01,  -2.52915548e+00,  -1.17116971e-01,\n",
       "        -2.83363704e+00,   1.22426395e+00,   7.89514797e-01,\n",
       "         1.85334465e-01,  -9.12832441e-01,  -9.99583760e-01,\n",
       "        -2.79975483e+00,  -1.84273295e+00,  -1.21465493e+00,\n",
       "        -3.62401737e+00,  -1.55258968e+00,   9.16152537e-01,\n",
       "         2.13401166e+00,   1.24774076e+00,   3.35304441e-01,\n",
       "         7.91087808e-01,  -1.38975828e+00,  -2.87107077e+00,\n",
       "        -3.12625240e+00,   3.69370506e-01,  -1.26536979e-01,\n",
       "         8.23987180e-01,  -1.79090136e-01,   1.61397582e+00,\n",
       "        -3.60264687e+00,  -2.80467329e+00,   6.03674479e-02,\n",
       "        -2.99609223e+00,  -1.95512916e+00,   7.70369514e-01,\n",
       "         1.02671471e+00,  -1.07079041e+00,  -4.24635603e+00,\n",
       "        -8.56656437e-01,  -2.61459246e-01,   6.74841263e-01,\n",
       "        -1.42067813e+00,  -2.90982949e+00,   1.59667944e+00,\n",
       "         1.39899275e+00,  -6.84796510e-01,  -2.06154085e+00,\n",
       "        -1.13657142e+00,  -1.09906385e+00,   3.79829749e-01,\n",
       "        -1.48331670e+00,  -5.00616209e-01,   1.47207880e+00,\n",
       "         6.22952363e+00,   1.37869701e+00,   1.67826382e+00,\n",
       "         3.21230314e+00,   4.37173279e+00,  -6.05699194e-01,\n",
       "         1.18103819e+00,   8.18571105e-01,   2.12172018e+00,\n",
       "        -4.58621100e-02,  -1.67900090e+00,  -2.10555082e-01,\n",
       "        -5.16724490e-01,  -1.52677354e+00,  -7.87921222e-02,\n",
       "        -7.04331294e-01,  -4.69634807e-02,   4.07799465e+00,\n",
       "         5.30434452e-01,   2.22814954e+00,  -1.72902774e+00,\n",
       "        -2.67410393e+00,   3.11103316e-01,   3.40936577e+00,\n",
       "         5.65651448e-01,   4.92848138e-01,  -1.45329546e+00,\n",
       "         3.08111589e+00,  -6.16544294e+00,   2.24481339e+00,\n",
       "        -2.80967424e+00,   9.40252198e-01,   4.77656563e-02,\n",
       "         1.34847947e-01,   1.28467877e-01,   5.12796167e-01,\n",
       "        -1.57366259e+00,  -1.19308842e+00,   4.24170691e+00,\n",
       "        -5.10982586e+00,   3.00770174e+00,  -2.27589420e+00,\n",
       "         4.50798860e-01,  -1.09325136e+00,   2.18676165e+00,\n",
       "        -3.94564566e+00,  -4.43476702e-01,   3.05997526e+00,\n",
       "        -4.60036172e-02,   5.99158620e-02,  -3.76580147e-01,\n",
       "        -1.73522600e+00,   1.31106289e+00,  -5.52526563e-01,\n",
       "        -2.45796778e+00,  -2.11065058e+00,   6.98884154e-01,\n",
       "        -3.74998763e+00,   7.86630391e-01,  -7.83736814e-01,\n",
       "         5.38942050e-01,   1.17002276e+00,   7.38813879e-01,\n",
       "        -6.51540175e-01,   1.12350705e+00,  -2.95102146e-01,\n",
       "        -3.62986681e+00,  -3.26216875e+00,   5.45394340e-01,\n",
       "        -5.88249710e-01,  -2.37234925e+00,  -1.54334059e+00,\n",
       "        -3.82940594e-01,   2.12426804e+00,   2.64092610e+00,\n",
       "        -6.49633480e-01,   1.68172579e+00,  -2.57125683e+00,\n",
       "        -1.02828491e+00,   1.48526273e-01,  -1.47902856e-01,\n",
       "         1.35909762e+00,  -2.25509386e+00,  -1.02771258e+00,\n",
       "         4.17926622e+00,   1.16898708e-01,   2.08860660e+00,\n",
       "        -1.62772922e+00,  -4.68031155e+00,  -2.68844062e-01,\n",
       "        -4.53017234e+00,   2.59751067e+00,  -1.30728371e-01,\n",
       "        -2.66197311e+00,  -1.59778557e+00,   5.96469163e-01,\n",
       "         2.84587760e-01,  -2.70247312e+00,   7.98798890e-01,\n",
       "        -2.71856359e+00,  -2.91073617e+00,  -3.69935197e-01,\n",
       "         5.80178572e-01,  -2.08488067e+00,   1.32281149e+00,\n",
       "        -1.56856042e+00,   4.76362216e-01,  -4.05815936e-03,\n",
       "        -3.27839180e+00,  -6.55063018e-01,  -3.23889197e+00,\n",
       "        -2.07823121e+00,  -2.44614626e+00,   9.35403727e-01,\n",
       "         4.80683155e-01,   5.93782413e-01,   2.96577143e+00,\n",
       "        -2.93832472e+00,   1.73617124e+00,  -1.46824201e+00,\n",
       "        -1.03484951e+00,  -3.10116098e-01,  -1.18338581e+00,\n",
       "         9.50375988e-01,  -3.17473034e+00,  -6.65544030e-01,\n",
       "         1.92231981e-01,   1.38886135e+00,  -1.43812801e-01,\n",
       "        -1.78014986e+00,  -2.39138847e+00,  -7.48926211e-01,\n",
       "         4.91914096e-02,   6.46298319e-01,  -1.52941229e+00,\n",
       "        -2.37146646e+00,   7.03048252e-01,  -3.87479725e+00,\n",
       "         2.31700483e+00,  -7.96052297e-01,   6.03142200e-01,\n",
       "         1.03528375e+00,   1.17794816e-01,  -1.79367214e+00,\n",
       "         1.48536742e-01,  -1.02344777e+00,   1.33996485e+00,\n",
       "        -2.42628161e+00,  -5.12907007e-03,  -1.64400581e-02,\n",
       "        -2.50836383e-01,  -2.36583174e-01,  -1.81210354e+00,\n",
       "        -4.28360080e-01,  -4.06755655e-01,  -2.96414210e-01,\n",
       "        -1.89804895e-01,   1.58246468e+00,  -5.01937051e-01,\n",
       "        -1.92838677e+00,  -2.44456278e-01,  -4.41106078e-01,\n",
       "        -6.87711526e-01,  -1.74245557e+00,  -1.62854138e+00,\n",
       "         1.02402954e+00,  -2.57662172e+00,  -9.32127396e-01,\n",
       "         1.62842104e+00,  -9.97017370e-01,  -2.86275648e+00,\n",
       "        -4.13279750e+00,  -1.48642733e+00,   1.55125818e+00,\n",
       "        -1.31561811e+00,  -2.01159580e+00,   1.06791951e+00,\n",
       "        -9.08669524e-01,   9.95996823e-01,  -8.37986000e-01,\n",
       "         1.20760291e+00,   7.47603994e-01,  -2.90607673e+00,\n",
       "         1.50899980e+00,   2.04926792e-01,   7.79582959e-01,\n",
       "        -4.31980686e-01,  -2.65194806e+00,  -1.73334372e+00,\n",
       "        -1.20840480e+00,  -1.23632793e+00,   1.57963707e-01,\n",
       "        -5.90130646e-02,   1.21651196e+00,  -7.96494134e-01,\n",
       "         3.18580452e+00,   8.04206858e-01,  -3.17790528e+00,\n",
       "        -9.13082688e-01,  -1.43478670e+00,   1.55142328e+00,\n",
       "        -6.21438443e-01,   1.07884593e-01,   1.51323806e+00,\n",
       "        -4.58080991e-01,   7.55163507e-01,  -4.26192632e+00,\n",
       "         1.46052799e+00,  -7.17138697e-01,  -3.27799741e+00,\n",
       "         2.51057093e+00,  -2.43819064e+00,  -1.22429379e+00,\n",
       "        -1.12421630e+00,   1.77214284e+00,  -5.50302955e-01,\n",
       "         2.13501761e+00,   1.15851697e+00,  -2.23901624e-02,\n",
       "         8.77207636e-01,  -2.65348384e+00,  -2.28370668e+00,\n",
       "         1.35574022e-01,  -4.13426732e+00,  -2.81919999e-01,\n",
       "         1.22293919e+00,  -2.10991576e+00,   3.15834563e+00,\n",
       "        -3.74440411e+00,   1.29729470e+00,  -1.47236113e+00,\n",
       "        -7.34766146e-01,  -1.04378642e+00,  -1.84545057e+00,\n",
       "        -5.37418687e-01,   1.60090465e+00,  -8.84278678e-01,\n",
       "        -2.22737567e+00,  -1.00430947e+00,   8.57484306e-02,\n",
       "         4.20058479e+00,   1.14725008e-01,  -1.73462690e+00,\n",
       "        -5.11572956e-01,   2.04917391e+00,  -2.22265678e+00,\n",
       "        -1.50415871e+00,  -2.47876596e+00,   8.53082419e-01,\n",
       "         2.17582797e+00,  -5.87578527e-01,  -1.39781878e+00,\n",
       "         8.95295070e-02,   1.50499877e+00,  -2.96366426e+00,\n",
       "        -3.38951363e+00,  -2.47925805e+00,   1.13773959e+00,\n",
       "         9.58547724e-01,   1.06990851e+00,  -9.05960616e-01,\n",
       "        -3.34515609e+00,  -2.58754793e-01,   5.67575179e-01,\n",
       "        -3.81281656e+00,  -3.48933735e+00,  -2.90999769e+00,\n",
       "        -7.81994888e-01,   1.77259914e+00,  -1.27647712e+00,\n",
       "         1.64674047e+00,  -4.13472973e-01,  -3.65315881e+00,\n",
       "         8.26844332e-01,  -2.65278431e+00,  -9.09765462e-01,\n",
       "        -1.17663663e+00,   9.07856048e-01,  -1.13135471e-01,\n",
       "         4.21320141e-01,   2.02282517e+00,  -1.28829242e-01,\n",
       "        -2.94145273e+00,  -2.94102894e+00,   1.41579142e+00,\n",
       "        -1.12042697e+00,  -1.49810784e+00,   4.27360084e-01,\n",
       "        -1.71328806e+00,   2.26254675e+00,  -3.33035902e-01,\n",
       "        -6.95995593e-01,   2.15272180e+00,  -1.64217168e+00,\n",
       "         2.11882087e+00,  -2.86183138e+00,  -4.56936485e+00,\n",
       "        -1.04061741e+00,  -3.36680029e+00,   1.46269551e+00,\n",
       "         7.27049517e-01,  -1.05606463e+00,  -1.08546327e+00,\n",
       "        -4.10055907e+00,   5.58009369e-01,  -5.16798811e-01,\n",
       "         2.86418316e+00,   3.67153260e-01,   5.75123827e-04,\n",
       "         1.90964079e+00,  -2.72355058e+00,  -1.30709801e+00,\n",
       "        -1.10244374e+00,  -3.28607314e+00,   6.84965395e-01,\n",
       "         2.93398265e+00,   1.71376354e+00,   3.81081593e+00,\n",
       "         1.70308033e-01,   4.94212646e+00,  -1.81366472e+00,\n",
       "         5.78679279e-01,  -1.39406829e+00,  -4.28323829e-01,\n",
       "        -3.07619883e+00,   2.66560298e+00,  -5.24603613e-01,\n",
       "        -3.59401138e+00,  -4.67914920e-01,   4.37074786e-01,\n",
       "        -8.31629219e-01,  -1.92058929e+00,  -1.82044691e+00,\n",
       "        -7.50274153e-02,   4.50998888e-01,  -2.22778059e+00,\n",
       "         6.58113513e-01,  -2.15041338e+00,   9.07174089e-02,\n",
       "         8.95126822e-01,  -2.09078021e+00,  -3.80850092e+00,\n",
       "        -6.41933637e-01,  -1.95690687e+00,  -7.11721087e-01,\n",
       "        -2.09734817e+00,   2.00368266e+00,  -1.07322556e+00,\n",
       "         1.66211142e+00,  -1.39897984e+00,  -3.16993966e-01,\n",
       "        -8.04006460e-01,  -1.13792411e+00,  -1.44074840e+00,\n",
       "         1.95571096e+00,  -3.15951066e+00,  -9.86036104e-01,\n",
       "        -1.15497431e-01,   1.72840781e-01,   4.45006445e-01,\n",
       "         3.15942600e+00,   3.99133800e-01,   1.07389875e+00,\n",
       "        -3.51708029e+00,  -2.29522993e+00,  -1.47930051e-02,\n",
       "        -2.23570324e+00,   9.87615120e-01,  -1.34711834e+00,\n",
       "        -7.34381946e-01,  -1.84836067e+00,  -2.96129062e+00,\n",
       "         9.61543506e-01,   1.75567820e+00,  -1.10041586e+00,\n",
       "        -2.34937121e+00,   8.93329890e-01,  -7.04858924e-01,\n",
       "        -3.70795607e+00,  -3.41914296e+00,  -9.10505473e-01,\n",
       "         9.17059662e-01,   6.68478136e-01,  -2.03175070e+00,\n",
       "        -1.01379785e-01,  -2.85529193e+00,  -2.26362760e-01,\n",
       "        -2.18370289e+00,   2.18865957e+00,  -2.09796335e+00,\n",
       "        -1.08612981e+00,   5.00072700e-01,   3.58629953e-02,\n",
       "         1.68469542e+00,   1.36395974e+00,   5.16406096e-01,\n",
       "         2.12111169e+00,  -1.86530280e+00,  -2.06638160e+00,\n",
       "        -6.08598763e-01,   1.03549039e-02,  -1.89977852e+00,\n",
       "        -4.09453454e-01,  -6.80592475e-01,  -8.86450589e-02,\n",
       "         1.59521092e+00,  -1.07728466e+00,  -1.76554339e+00,\n",
       "         2.14713914e-01,   1.35365217e+00,  -1.74387012e-01,\n",
       "        -2.70760082e+00,  -1.04836353e+00,  -3.48449971e-01,\n",
       "        -8.72665301e-02,  -9.35629455e-01,   2.67604719e+00,\n",
       "        -2.43750887e+00,   2.35157143e+00,   3.73565575e-01,\n",
       "        -3.11097674e+00,  -1.82691224e+00,   1.42516192e+00,\n",
       "        -2.35321834e+00,   1.31173837e+00,  -1.24791140e+00,\n",
       "         1.72884255e-01,  -6.73955623e-01,  -3.73893836e+00,\n",
       "         2.25069811e+00,  -2.01537628e+00,   4.84318349e-01,\n",
       "        -2.59956672e+00,  -1.36557500e+00,  -1.21819743e+00,\n",
       "        -3.41451756e-01,  -5.06891075e+00,  -2.41182021e+00,\n",
       "        -5.84079308e-01,   2.09666097e+00,  -3.68679158e-01,\n",
       "         6.62781330e-01,   8.18020923e-01,  -7.20464471e-02,\n",
       "         3.16142577e+00,  -3.02799499e-01,  -8.36664286e-01,\n",
       "         3.38022879e+00,  -2.32695344e+00,   2.53825451e+00,\n",
       "        -2.01954201e+00,  -2.60703433e-02,   1.82173873e+00,\n",
       "         3.76342095e-02,   2.54407902e-01,  -2.51828131e-01,\n",
       "        -1.55921118e+00,  -3.38681677e+00,  -7.50296015e-01,\n",
       "        -1.36234581e+00,   6.13723205e-01,   2.37721652e+00,\n",
       "        -2.21282455e+00,  -2.95666591e-02,   3.79653721e+00,\n",
       "        -2.96924225e-01,  -2.41071909e+00])"
      ]
     },
     "execution_count": 62,
     "metadata": {},
     "output_type": "execute_result"
    }
   ],
   "source": [
    "z"
   ]
  },
  {
   "cell_type": "code",
   "execution_count": null,
   "metadata": {
    "collapsed": true
   },
   "outputs": [],
   "source": []
  }
 ],
 "metadata": {
  "kernelspec": {
   "display_name": "Python 3",
   "language": "python",
   "name": "python3"
  },
  "language_info": {
   "codemirror_mode": {
    "name": "ipython",
    "version": 3
   },
   "file_extension": ".py",
   "mimetype": "text/x-python",
   "name": "python",
   "nbconvert_exporter": "python",
   "pygments_lexer": "ipython3",
   "version": "3.5.2"
  }
 },
 "nbformat": 4,
 "nbformat_minor": 2
}
