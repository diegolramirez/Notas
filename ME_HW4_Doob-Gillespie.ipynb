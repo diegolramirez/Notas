{
 "cells": [
  {
   "cell_type": "code",
   "execution_count": 145,
   "metadata": {},
   "outputs": [],
   "source": [
    "import numpy as np"
   ]
  },
  {
   "cell_type": "code",
   "execution_count": 146,
   "metadata": {},
   "outputs": [
    {
     "data": {
      "text/plain": [
       "480"
      ]
     },
     "execution_count": 146,
     "metadata": {},
     "output_type": "execute_result"
    }
   ],
   "source": [
    "k_ida = 1/10\n",
    "k_llegadam = 1/5\n",
    "k_llegadat = 1/2\n",
    "8*60"
   ]
  },
  {
   "cell_type": "code",
   "execution_count": 147,
   "metadata": {
    "collapsed": true
   },
   "outputs": [],
   "source": [
    "def k_llegada(t):\n",
    "    if (t < 480):\n",
    "        k = k_llegadam\n",
    "    elif (t >= 480 and t < 600):\n",
    "        k = k_llegadat\n",
    "    else:\n",
    "        k = 0\n",
    "    return(k)"
   ]
  },
  {
   "cell_type": "code",
   "execution_count": 148,
   "metadata": {},
   "outputs": [],
   "source": [
    "def alphaa(t):\n",
    "    if (C > 10):\n",
    "        k = k_ida\n",
    "    else:\n",
    "        k = 0\n",
    "    alpha = C*k + k_llegada(t)\n",
    "    return(alpha)"
   ]
  },
  {
   "cell_type": "code",
   "execution_count": 149,
   "metadata": {
    "collapsed": true
   },
   "outputs": [],
   "source": [
    "def tauu(alpha,r):\n",
    "    return (1/alpha*np.log(1/r))"
   ]
  },
  {
   "cell_type": "code",
   "execution_count": 150,
   "metadata": {
    "collapsed": true
   },
   "outputs": [],
   "source": [
    "def C_avance(r,k,a):\n",
    "    global C\n",
    "    global perdidos\n",
    "    if (r >= k/a):\n",
    "        C-=1\n",
    "        perdidos+=1\n",
    "    elif (r < k/a):\n",
    "        C+=1"
   ]
  },
  {
   "cell_type": "code",
   "execution_count": 151,
   "metadata": {},
   "outputs": [],
   "source": [
    "def atender_cliente(t):\n",
    "    global C\n",
    "    dt = int(t[-1]) - int(t[-2]) \n",
    "    if (dt >= 2 and int(t[-1])%2 == 0):\n",
    "        C = np.amax([0,C-int(1*(dt+1)/2)])"
   ]
  },
  {
   "cell_type": "code",
   "execution_count": 164,
   "metadata": {},
   "outputs": [],
   "source": [
    "C = 0\n",
    "t = [0]\n",
    "espera = []\n",
    "perdidos = 0\n",
    "año = 365\n",
    "mes = 30\n",
    "años = 100\n",
    "for __ in range(años*año):\n",
    "    while(True):\n",
    "        r1,r2 = np.random.random(2)\n",
    "        alpha = alphaa(t[-1])\n",
    "        tau = tauu(alpha,r1)\n",
    "        if(tau+t[-1] > dia):\n",
    "            t.append(0)\n",
    "            C = 0\n",
    "            break\n",
    "        espera.append(tau)\n",
    "        t.append(tau+t[-1])\n",
    "        C_avance(r2,k_llegada(t[-1]),alpha)\n",
    "        atender_cliente(t)"
   ]
  },
  {
   "cell_type": "code",
   "execution_count": 165,
   "metadata": {},
   "outputs": [
    {
     "data": {
      "text/plain": [
       "3.1830824292484814"
      ]
     },
     "execution_count": 165,
     "metadata": {},
     "output_type": "execute_result"
    }
   ],
   "source": [
    "np.mean(espera)"
   ]
  },
  {
   "cell_type": "code",
   "execution_count": 166,
   "metadata": {},
   "outputs": [
    {
     "data": {
      "text/plain": [
       "407.224"
      ]
     },
     "execution_count": 166,
     "metadata": {},
     "output_type": "execute_result"
    }
   ],
   "source": [
    "perdidos/(mes*años)"
   ]
  },
  {
   "cell_type": "code",
   "execution_count": null,
   "metadata": {
    "collapsed": true
   },
   "outputs": [],
   "source": []
  }
 ],
 "metadata": {
  "kernelspec": {
   "display_name": "Python 3",
   "language": "python",
   "name": "python3"
  },
  "language_info": {
   "codemirror_mode": {
    "name": "ipython",
    "version": 3
   },
   "file_extension": ".py",
   "mimetype": "text/x-python",
   "name": "python",
   "nbconvert_exporter": "python",
   "pygments_lexer": "ipython3",
   "version": "3.5.2"
  }
 },
 "nbformat": 4,
 "nbformat_minor": 2
}
